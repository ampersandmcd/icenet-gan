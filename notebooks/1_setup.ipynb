{
 "cells": [
  {
   "attachments": {},
   "cell_type": "markdown",
   "metadata": {},
   "source": [
    "# Setup\n",
    "\n",
    "Let's get started by setting up a computational environment!"
   ]
  },
  {
   "attachments": {},
   "cell_type": "markdown",
   "metadata": {},
   "source": [
    "### 1. Install a package manager\n",
    "Install Mamba or Micromamba by following system-specific instructions on the project [GitHub](https://github.com/mamba-org/mamba).\n",
    "\n",
    "[Conda](https://docs.conda.io/en/latest/conda.html) and [Miniconda](https://docs.conda.io/en/latest/miniconda.html) should also work, though they tend to take longer to solve dependencies."
   ]
  },
  {
   "attachments": {},
   "cell_type": "markdown",
   "metadata": {},
   "source": [
    "### 2. Create a new environment "
   ]
  },
  {
   "cell_type": "code",
   "execution_count": null,
   "metadata": {},
   "outputs": [],
   "source": [
    "!mamba env create -n icenet-gan"
   ]
  },
  {
   "attachments": {},
   "cell_type": "markdown",
   "metadata": {},
   "source": [
    "### 3. Activate the environment"
   ]
  },
  {
   "cell_type": "code",
   "execution_count": null,
   "metadata": {},
   "outputs": [],
   "source": [
    "!mamba activate icenet-gan"
   ]
  },
  {
   "attachments": {},
   "cell_type": "markdown",
   "metadata": {},
   "source": [
    "### 4. Install GPU-enabled PyTorch\n",
    "Follow the system-specific, hardware-specific instructions on the project [website](https://pytorch.org/).\n",
    "\n",
    "PyTorch installation is notoriously finnicky and is best carried out in a fresh environment before we install anything else!"
   ]
  },
  {
   "cell_type": "code",
   "execution_count": null,
   "metadata": {},
   "outputs": [],
   "source": [
    "!mamba install pytorch torchvision torchaudio pytorch-cuda=11.8 -c pytorch -c nvidia -c conda-forge"
   ]
  },
  {
   "attachments": {},
   "cell_type": "markdown",
   "metadata": {},
   "source": [
    "As a sanity check before we move forward, let's ensure our PyTorch installation is able to access our system's GPU."
   ]
  },
  {
   "cell_type": "code",
   "execution_count": 2,
   "metadata": {},
   "outputs": [
    {
     "data": {
      "text/plain": [
       "1"
      ]
     },
     "execution_count": 2,
     "metadata": {},
     "output_type": "execute_result"
    }
   ],
   "source": [
    "import torch\n",
    "torch.cuda.is_available()"
   ]
  },
  {
   "attachments": {},
   "cell_type": "markdown",
   "metadata": {},
   "source": [
    "### 5. Install additional packages from environment.yml\n",
    "Now that we've got PyTorch installed, we can go ahead and install remaining dependencies from `environment.yml`."
   ]
  },
  {
   "cell_type": "code",
   "execution_count": null,
   "metadata": {},
   "outputs": [],
   "source": [
    "!mamba env update -f environment.yml"
   ]
  },
  {
   "attachments": {},
   "cell_type": "markdown",
   "metadata": {},
   "source": [
    "### 6. Link data folder\n",
    "\n",
    "In later stages of the project, we'll need somewhere to store large amounts of data, which may or may not be in the folder where we're running this project. Let's call that folder `icenet-gan-data` and create a symlink to access it without having to think of where we've placed it for long-term storage."
   ]
  },
  {
   "cell_type": "code",
   "execution_count": null,
   "metadata": {},
   "outputs": [],
   "source": [
    "!ln -s /data/hpcdata/users/anddon76/icenet-gan-data"
   ]
  },
  {
   "attachments": {},
   "cell_type": "markdown",
   "metadata": {},
   "source": [
    "Let's also change the line which sets `data_folder` in `src/config.py` to point to this directory.\n",
    "\n",
    "```python\n",
    "data_folder = \"/data/hpcdata/users/anddon76/icenet-gan-data\"\n",
    "```"
   ]
  },
  {
   "attachments": {},
   "cell_type": "markdown",
   "metadata": {},
   "source": [
    "### 7. Configure API keys\n",
    "Before we can download data or train models, we'll need to set up accounts with\n",
    "- [Copernicus Climate Data Store](https://cds.climate.copernicus.eu/#!/home) for ERA5 meteorological data,\n",
    "- [ECMWF](https://www.ecmwf.int/en/forecasts/accessing-forecasts) for SEAS5 baseline dynamical sea ice forecast data, and\n",
    "- [Weights & Biases](https://wandb.ai/) for model training, tuning and tracking. \n",
    "\n",
    "Once we've set up those accounts, we'll need to change the following lines in `src/config.py`.\n",
    "\n",
    "```python\n",
    "###############################################################################\n",
    "### Weights and biases config (https://docs.wandb.ai/guides/track/advanced/environment-variables)\n",
    "###############################################################################\n",
    "\n",
    "# Get API key from https://wandb.ai/authorize\n",
    "WANDB_API_KEY = 'YOUR-KEY-HERE'\n",
    "# Absolute path to store wandb generated files (folder must exist)\n",
    "#   Note: user must have write access\n",
    "WANDB_DIR = '/path/to/wandb/dir'\n",
    "# Absolute path to wandb config dir (\n",
    "WANDB_CONFIG_DIR = '/path/to/wandb/config/dir'\n",
    "WANDB_CACHE_DIR = '/path/to/wandb/cache/dir'\n",
    "\n",
    "###############################################################################\n",
    "### ECMWF details\n",
    "###############################################################################\n",
    "\n",
    "ECMWF_API_KEY = 'YOUR-KEY-HERE'\n",
    "ECMWF_API_EMAIL = 'YOUR-KEY-HERE'\n",
    "```"
   ]
  },
  {
   "attachments": {},
   "cell_type": "markdown",
   "metadata": {},
   "source": [
    "### 8. All set\n",
    "Our environment is ready to rock and roll!\n",
    "\n",
    "We'll continue by downloading and exploring data in the next notebook."
   ]
  }
 ],
 "metadata": {
  "kernelspec": {
   "display_name": "Python 3",
   "language": "python",
   "name": "python3"
  },
  "language_info": {
   "codemirror_mode": {
    "name": "ipython",
    "version": 3
   },
   "file_extension": ".py",
   "mimetype": "text/x-python",
   "name": "python",
   "nbconvert_exporter": "python",
   "pygments_lexer": "ipython3",
   "version": "3.11.4"
  },
  "orig_nbformat": 4
 },
 "nbformat": 4,
 "nbformat_minor": 2
}
